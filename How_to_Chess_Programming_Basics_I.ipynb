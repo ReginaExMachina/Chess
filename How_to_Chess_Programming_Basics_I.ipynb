{
  "nbformat": 4,
  "nbformat_minor": 0,
  "metadata": {
    "colab": {
      "name": "How_to_Chess-Programming_Basics_I.ipynb",
      "provenance": [],
      "authorship_tag": "ABX9TyOq9EA+q3mU6KTjMLb0EgtU",
      "include_colab_link": true
    },
    "kernelspec": {
      "name": "python3",
      "display_name": "Python 3"
    },
    "language_info": {
      "name": "python"
    }
  },
  "cells": [
    {
      "cell_type": "markdown",
      "metadata": {
        "id": "view-in-github",
        "colab_type": "text"
      },
      "source": [
        "<a href=\"https://colab.research.google.com/github/ReginaExMachina/Chess/blob/main/How_to_Chess_Programming_Basics_I.ipynb\" target=\"_parent\"><img src=\"https://colab.research.google.com/assets/colab-badge.svg\" alt=\"Open In Colab\"/></a>"
      ]
    },
    {
      "cell_type": "markdown",
      "source": [
        "#Variables \n",
        "\n",
        "Variables are containers for storing values. For example:\n",
        "\n"
      ],
      "metadata": {
        "id": "SkYQA-Yp4Z7x"
      }
    },
    {
      "cell_type": "code",
      "source": [
        "favourite_piece = \"Q\""
      ],
      "metadata": {
        "id": "1lwdWrRg8Cg8"
      },
      "execution_count": 28,
      "outputs": []
    },
    {
      "cell_type": "markdown",
      "source": [
        "This instructs the computer to create a variable named \"favourite_pieces\" and put the letter \"Q\" in it."
      ],
      "metadata": {
        "id": "lXjDqDDr7YsN"
      }
    },
    {
      "cell_type": "code",
      "source": [
        "print(favourite_piece)"
      ],
      "metadata": {
        "colab": {
          "base_uri": "https://localhost:8080/"
        },
        "id": "MO3GMskN85U0",
        "outputId": "6f970c11-39df-4c99-9e4e-bb67ae9b25e2"
      },
      "execution_count": 29,
      "outputs": [
        {
          "output_type": "stream",
          "name": "stdout",
          "text": [
            "Q\n"
          ]
        }
      ]
    },
    {
      "cell_type": "markdown",
      "source": [
        "##Data Types\n",
        "\n",
        "Variables can store data of different types, and Python has several built-in data types including the following:"
      ],
      "metadata": {
        "id": "9JC9cOfT-sTy"
      }
    },
    {
      "cell_type": "markdown",
      "source": [
        "**Numeric**\n",
        "\n",
        "*   **int** - a whole number (ex. 8, -49)\n",
        "*   **float** - a floating point number  (8.1, -49.9)\n",
        "\n",
        "\n",
        "  \n",
        "\n"
      ],
      "metadata": {
        "id": "X0L626wL-wG_"
      }
    },
    {
      "cell_type": "code",
      "source": [
        "a = 8\n",
        "b = 8\n",
        "c = a + b\n",
        "\n",
        "print(c)"
      ],
      "metadata": {
        "colab": {
          "base_uri": "https://localhost:8080/"
        },
        "id": "y4v9mFQJANFI",
        "outputId": "9218d9f8-5dc5-4c13-d762-6dda9f0414a5"
      },
      "execution_count": 21,
      "outputs": [
        {
          "output_type": "stream",
          "name": "stdout",
          "text": [
            "16\n"
          ]
        }
      ]
    },
    {
      "cell_type": "markdown",
      "source": [
        "**Text**\n",
        "\n",
        "The data type for text of any length is called a string. Multiple strings together can be **concatenated** using numerical operators."
      ],
      "metadata": {
        "id": "BPUo_qPjANrG"
      }
    },
    {
      "cell_type": "code",
      "source": [
        "favourite_piece = \"Queen\"\n",
        "favourite_piece = \"Queen\" + \" Knight\"\n",
        "\n",
        "print (favourite_piece)"
      ],
      "metadata": {
        "colab": {
          "base_uri": "https://localhost:8080/"
        },
        "id": "RpupVbgd-_AN",
        "outputId": "9d8b9a28-f697-44ac-b1a2-73c8e8b7a196"
      },
      "execution_count": 20,
      "outputs": [
        {
          "output_type": "stream",
          "name": "stdout",
          "text": [
            "Queen Knight\n"
          ]
        }
      ]
    },
    {
      "cell_type": "markdown",
      "source": [
        "**Boolean**\n",
        "\n",
        "Booleans represent one of two values: *True* or *False*. "
      ],
      "metadata": {
        "id": "PRJNNhgkAjPr"
      }
    },
    {
      "cell_type": "code",
      "source": [
        "is_king_in_check = True"
      ],
      "metadata": {
        "id": "XN6cEq2IDLbn"
      },
      "execution_count": 13,
      "outputs": []
    },
    {
      "cell_type": "markdown",
      "source": [
        "**Sequence**\n",
        "\n",
        "These types are used to store multiple items in a single variable."
      ],
      "metadata": {
        "id": "C7nN4gCUA2kg"
      }
    },
    {
      "cell_type": "code",
      "source": [
        "favourite_pieces = [\"Queen\", \"Knight\", \"Pawn\"] #list"
      ],
      "metadata": {
        "id": "Xb9UPehpBl9V"
      },
      "execution_count": 15,
      "outputs": []
    },
    {
      "cell_type": "markdown",
      "source": [
        "##Questions\n",
        "\n",
        "I. Are the following two variables the same type?"
      ],
      "metadata": {
        "id": "8TiQCK06IAgD"
      }
    },
    {
      "cell_type": "code",
      "source": [
        "x = 8\n",
        "y = \"8\""
      ],
      "metadata": {
        "id": "OOoOm1RMH_p2"
      },
      "execution_count": 18,
      "outputs": []
    },
    {
      "cell_type": "markdown",
      "source": [
        "No, x is an integer and y is a string. They cannot be used in operations together unless one is **casted** to the other's type:"
      ],
      "metadata": {
        "id": "reTt6oqQIRz4"
      }
    },
    {
      "cell_type": "code",
      "source": [
        "z = x + int(y)\n",
        "\n",
        "print(z)"
      ],
      "metadata": {
        "colab": {
          "base_uri": "https://localhost:8080/"
        },
        "id": "YwGvihI8IwRF",
        "outputId": "32124041-5e56-44aa-c2a0-fe9ab3f7ed58"
      },
      "execution_count": 23,
      "outputs": [
        {
          "output_type": "stream",
          "name": "stdout",
          "text": [
            "16\n"
          ]
        }
      ]
    },
    {
      "cell_type": "markdown",
      "source": [
        "II. Boolean values can also act as numeric values (False = 0 and True = 1). Will the following arithmetic operation work without casting?"
      ],
      "metadata": {
        "id": "uXLHzvSGLqew"
      }
    },
    {
      "cell_type": "code",
      "source": [
        "x = 8\n",
        "y = True"
      ],
      "metadata": {
        "id": "gb7G2UYbLFul"
      },
      "execution_count": 26,
      "outputs": []
    },
    {
      "cell_type": "code",
      "source": [
        "z = x + y\n",
        "\n",
        "print(z)"
      ],
      "metadata": {
        "colab": {
          "base_uri": "https://localhost:8080/"
        },
        "id": "D8j4g8r2MBC3",
        "outputId": "b664c76f-d775-4dfa-c543-c56b2f7a68db"
      },
      "execution_count": 27,
      "outputs": [
        {
          "output_type": "stream",
          "name": "stdout",
          "text": [
            "9\n"
          ]
        }
      ]
    },
    {
      "cell_type": "markdown",
      "source": [
        "Yes, since the boolean value *True* is a special version of the numeric 1, there is no need to cast (aka change the type) beforehand.\n",
        "\n",
        "This is often very useful in logical operations and functions."
      ],
      "metadata": {
        "id": "-UUWC4lfMMQV"
      }
    },
    {
      "cell_type": "markdown",
      "source": [
        "\n",
        "\n",
        "---\n",
        "\n",
        "[Previous](https://colab.research.google.com/github/ReginaExMachina/Chess/blob/main/How_to_Chess.ipynb) [Next](https://colab.research.google.com/drive/1zvfxSBY1EECMPqmKd1rV5bKo43eolC-r?usp=sharing)\n"
      ],
      "metadata": {
        "id": "aOcXUlPRN2Oz"
      }
    }
  ]
}